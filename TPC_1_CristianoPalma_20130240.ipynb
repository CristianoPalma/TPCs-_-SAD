{
 "cells": [
  {
   "cell_type": "markdown",
   "metadata": {},
   "source": [
    "# TPC 1 (entrega na próxima aula - 20 min MAX)\n",
    "\n",
    "### Dominar a linguagem Python\n",
    "#### ENTREGA 22/10/2018\n",
    "\n",
    "----\n",
    "\n",
    "Uma string S composta de N caracteres é considerada como correta se qualquer uma das seguintes condições for verdadeira:\n",
    "\n",
    "- S for vazia;\n",
    "- S tem a forma \"(U)\" ou \"[U]\" ou \"{U}\" onde U é também uma string correta;\n",
    "- S tem a forma \"VW\" onde V e W são strings corretas.\n",
    "\n",
    "\n",
    "Por exemplo, a string \"{[() ()]}\" é considerada correta, mas \"([) ()]\" não é.\n",
    "\n",
    "Escreva uma função:\n",
    "\n",
    "```def solution(S)```\n",
    "\n",
    "que, dada uma sequência S com N caracteres, retorna 1 se S estiver correta e 0 caso contrário.\n",
    "\n",
    "Por exemplo, dado S = \"{[() ()]}\", a função deve retornar 1 e dado S = \"([) ()]\", a função deve retornar 0, como explicado acima.\n",
    "\n",
    "Assuma que:\n",
    "\n",
    "- N é um número inteiro dentro do intervalo [0..200,000];\n",
    "- A string S consiste apenas nos seguintes caracteres: \"(\", \"{\", \"[\", \"]\", \"}\" e / ou \")\"."
   ]
  },
  {
   "cell_type": "code",
   "execution_count": 10,
   "metadata": {},
   "outputs": [
    {
     "name": "stdout",
     "output_type": "stream",
     "text": [
      "1\n",
      "1\n",
      "0\n",
      "1\n",
      "0\n",
      "1\n",
      "0\n"
     ]
    }
   ],
   "source": [
    "def solution(s):\n",
    "\t\n",
    "\tif (s == \"\"): return 1\n",
    "\telse:\n",
    "\t\tstack = \"\"\n",
    "\n",
    "\t\tfor c in s.replace(\" \", \"\"):\n",
    "\t\t\tif (c == '(' or c == '[' or c == '{'):\n",
    "\t\t\t\tstack = c + stack\n",
    "\t\t\telse:\n",
    "\t\t\t\t\n",
    "\t\t\t\tif ((c ==')' and len(stack) > 0 and stack[0] == '(') or \n",
    "\t\t\t\t\t(c ==']' and len(stack) > 0 and stack[0] == '[') or \n",
    "\t\t\t\t\t(c =='}' and len(stack) > 0 and stack[0] == '{')):\n",
    "\t\t\t\t\tstack = stack[1:]\n",
    "\t\t\t\telse: return 0\n",
    "\t\t\t\t                \n",
    "\t\t\t\tif len(stack) == 0:\n",
    "\t\t\t\t\treturn 0\n",
    "\t\t\t\treturn 1\n",
    "\n",
    "print(solution(\"\")) # String Vazia = 1\n",
    "print(solution(\"{[() ()]}\")) # String com 8 caracteres correctos = 1\n",
    "print(solution(\"()]\")) # String com 4 caracteres incorrectos = 0\n",
    "print(solution(\"{[() {[()\")) # String com 8 caracteres correctos = 1\n",
    "print(solution(\"([) ()]\")) # String  com 6 caracteres incorrectos = 0\n",
    "print(solution(\"{[() ()]} {[() ()]} {[() ()]} {[() ()]}\")) # String com 32 caracteres correctos = 1\n",
    "print(solution(\"([)()] {[() ()]}\")) # String com 6 caracteres incorrectos e 8 correctos = 0"
   ]
  },
  {
   "cell_type": "code",
   "execution_count": null,
   "metadata": {
    "collapsed": true
   },
   "outputs": [],
   "source": []
  }
 ],
 "metadata": {
  "kernelspec": {
   "display_name": "Python 3",
   "language": "python",
   "name": "python3"
  },
  "language_info": {
   "codemirror_mode": {
    "name": "ipython",
    "version": 3
   },
   "file_extension": ".py",
   "mimetype": "text/x-python",
   "name": "python",
   "nbconvert_exporter": "python",
   "pygments_lexer": "ipython3",
   "version": "3.6.1"
  }
 },
 "nbformat": 4,
 "nbformat_minor": 2
}
