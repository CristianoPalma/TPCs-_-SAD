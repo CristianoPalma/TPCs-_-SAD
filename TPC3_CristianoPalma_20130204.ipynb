{
 "cells": [
  {
   "cell_type": "raw",
   "metadata": {},
   "source": [
    "Sistemas de Suporte à Decisão\n",
    "TPC 3\n",
    "\n",
    "Crie um ficheiro em python para trabalhar o dataset\n",
    "\n",
    "    datasets.california_housing\n",
    "\n",
    "Nesse ficheiro, crie um script (função) por alínea que lhe \n",
    "permita gerar novos datasets a partir do dataset principal, \n",
    "onde tenha usado cada um dos seguintes métodos de pre-processamento:\n",
    "\n",
    "1) Aggregation;\n",
    "\n",
    "2) Sampling;\n",
    "\n",
    "3) Dimensionality Reduction;\n",
    "\n",
    "4) Feature Subset Selection;\n",
    "\n",
    "5) Feature Creation;\n",
    "\n",
    "6) Discretization and Binarization;\n",
    "\n",
    "7) Attribute Transformation."
   ]
  },
  {
   "cell_type": "code",
   "execution_count": 187,
   "metadata": {
    "collapsed": true
   },
   "outputs": [],
   "source": [
    "from sklearn import datasets, decomposition\n",
    "import pandas as pd\n",
    "import numpy as np\n",
    "import matplotlib.pyplot as plt\n"
   ]
  },
  {
   "cell_type": "code",
   "execution_count": 188,
   "metadata": {},
   "outputs": [],
   "source": [
    "data = datasets.california_housing.fetch_california_housing()\n",
    "dframe = pd.DataFrame(data = data.data, columns=data.feature_names)"
   ]
  },
  {
   "cell_type": "code",
   "execution_count": 189,
   "metadata": {},
   "outputs": [
    {
     "name": "stdout",
     "output_type": "stream",
     "text": [
      "1) Aggregation:\n",
      "\n",
      "            MedInc       HouseAge       AveRooms     AveBedrms    Population  \\\n",
      "var       3.609323     158.396260       6.121533      0.224592  1.282470e+06   \n",
      "sum   79890.649500  591119.000000  112054.554679  22635.375088  2.942184e+07   \n",
      "mean      3.870671      28.639486       5.429000      1.096675  1.425477e+03   \n",
      "\n",
      "          AveOccup       Latitude     Longitude  \n",
      "var     107.870026       4.562293  4.014139e+00  \n",
      "sum   63378.322491  735441.620000 -2.467919e+06  \n",
      "mean      3.070655      35.631861 -1.195697e+02  \n"
     ]
    }
   ],
   "source": [
    "def aggregation(d):\n",
    "    return d.aggregate({\"var\", \"mean\", \"sum\"})\n",
    "\n",
    "print('1) Aggregation:' \"\\n\")\n",
    "print(aggregation(dframe))"
   ]
  },
  {
   "cell_type": "code",
   "execution_count": 196,
   "metadata": {},
   "outputs": [
    {
     "name": "stdout",
     "output_type": "stream",
     "text": [
      " 2) Sampling:\n",
      "\n",
      "       MedInc  HouseAge  AveRooms  AveBedrms  Population  AveOccup  Latitude  \\\n",
      "2795   2.3250      30.0  6.908356   1.428571       861.0  2.320755     36.94   \n",
      "13391  3.9755      11.0  4.802000   0.930000      1757.0  3.514000     34.09   \n",
      "16638  3.2112      15.0  6.517308   1.353846      1309.0  2.517308     35.60   \n",
      "16045  4.2562      40.0  5.747449   1.099490      1382.0  3.525510     37.71   \n",
      "12341  5.7613      23.0  8.647399   1.624277       676.0  1.953757     33.84   \n",
      "19721  2.1250      40.0  6.213235   1.139706       343.0  2.522059     39.14   \n",
      "18017  1.8542      17.0  4.789116   1.193878       636.0  2.163265     37.26   \n",
      "151    5.3509      47.0  5.650672   1.028791      1034.0  1.984645     37.81   \n",
      "13164  4.1875       1.0  5.816358   1.032407      2061.0  3.180556     36.84   \n",
      "10645  5.8371      30.0  5.482759   1.135279       724.0  1.920424     33.55   \n",
      "\n",
      "       Longitude  Population/MedInc  \n",
      "2795     -118.31         370.322581  \n",
      "13391    -117.59         441.956987  \n",
      "16638    -121.10         407.635775  \n",
      "16045    -122.45         324.702787  \n",
      "12341    -116.55         117.334629  \n",
      "19721    -121.91         161.411765  \n",
      "18017    -121.96         343.005070  \n",
      "151      -122.22         193.238521  \n",
      "13164    -121.38         492.179104  \n",
      "10645    -117.80         124.034195  \n"
     ]
    }
   ],
   "source": [
    "def sampling(d):\n",
    "    return d.sample(n=10)\n",
    "\n",
    "print(' 2) Sampling:' \"\\n\")\n",
    "print(sampling(dframe))"
   ]
  },
  {
   "cell_type": "code",
   "execution_count": 204,
   "metadata": {},
   "outputs": [
    {
     "name": "stdout",
     "output_type": "stream",
     "text": [
      "3) Dimensionality Reduction: \n",
      "\n",
      "         PCA-0       PCA-1\n",
      "0 -1175.392724  -69.659056\n",
      "1   885.940554 -438.709523\n",
      "2 -1000.364440  -92.125786\n",
      "3  -932.141217  -81.057366\n",
      "4  -911.393386  -37.186431\n"
     ]
    }
   ],
   "source": [
    "def dimensionalityReduction(d):\n",
    "    pca = decomposition.PCA(n_components=2)\n",
    "    pca.fit(d)\n",
    "    columns = ['PCA-%i' % i for i in range(pca.n_components_)]\n",
    "    return pd.DataFrame(pca.transform(dframe), columns=columns, index=dframe.index).head()\n",
    "\n",
    "\n",
    "print('3) Dimensionality Reduction: ' \"\\n\")\n",
    "print(dimensionalityReduction(dframe))"
   ]
  },
  {
   "cell_type": "code",
   "execution_count": 192,
   "metadata": {},
   "outputs": [
    {
     "name": "stdout",
     "output_type": "stream",
     "text": [
      "4) Feature Subset Selection:\n",
      "\n",
      "   HouseAge  Population  MedInc\n",
      "0      41.0       322.0  8.3252\n",
      "1      21.0      2401.0  8.3014\n",
      "2      52.0       496.0  7.2574\n",
      "3      52.0       558.0  5.6431\n",
      "4      52.0       565.0  3.8462\n",
      "5      52.0       413.0  4.0368\n",
      "6      52.0      1094.0  3.6591\n",
      "7      52.0      1157.0  3.1200\n",
      "8      42.0      1206.0  2.0804\n",
      "9      52.0      1551.0  3.6912\n"
     ]
    }
   ],
   "source": [
    "def featureSubsetSelection(d):\n",
    "    return d[['HouseAge', 'Population', 'MedInc']][0:10]\n",
    "\n",
    "print('4) Feature Subset Selection:' \"\\n\")\n",
    "print(featureSubsetSelection(dframe))"
   ]
  },
  {
   "cell_type": "code",
   "execution_count": 193,
   "metadata": {},
   "outputs": [
    {
     "name": "stdout",
     "output_type": "stream",
     "text": [
      "5) Feature Creation\n",
      "\n",
      "   MedInc  HouseAge  AveRooms  AveBedrms  Population  AveOccup  Latitude  \\\n",
      "0  8.3252      41.0  6.984127   1.023810       322.0  2.555556     37.88   \n",
      "1  8.3014      21.0  6.238137   0.971880      2401.0  2.109842     37.86   \n",
      "2  7.2574      52.0  8.288136   1.073446       496.0  2.802260     37.85   \n",
      "3  5.6431      52.0  5.817352   1.073059       558.0  2.547945     37.85   \n",
      "4  3.8462      52.0  6.281853   1.081081       565.0  2.181467     37.85   \n",
      "5  4.0368      52.0  4.761658   1.103627       413.0  2.139896     37.85   \n",
      "6  3.6591      52.0  4.931907   0.951362      1094.0  2.128405     37.84   \n",
      "7  3.1200      52.0  4.797527   1.061824      1157.0  1.788253     37.84   \n",
      "8  2.0804      42.0  4.294118   1.117647      1206.0  2.026891     37.84   \n",
      "9  3.6912      52.0  4.970588   0.990196      1551.0  2.172269     37.84   \n",
      "\n",
      "   Longitude  Population/MedInc  \n",
      "0    -122.23          38.677749  \n",
      "1    -122.22         289.228323  \n",
      "2    -122.24          68.344035  \n",
      "3    -122.25          98.881820  \n",
      "4    -122.25         146.898237  \n",
      "5    -122.25         102.308759  \n",
      "6    -122.25         298.980624  \n",
      "7    -122.25         370.833333  \n",
      "8    -122.26         579.696212  \n",
      "9    -122.25         420.188557  \n"
     ]
    }
   ],
   "source": [
    "def featureCreation(d):\n",
    "    d['Population/MedInc'] = d['Population'] / d['MedInc']\n",
    "    return d.head(10)\n",
    "\n",
    "print('5) Feature Creation' \"\\n\")\n",
    "print(featureCreation(dframe))"
   ]
  },
  {
   "cell_type": "code",
   "execution_count": 194,
   "metadata": {},
   "outputs": [
    {
     "name": "stdout",
     "output_type": "stream",
     "text": [
      "6) Discretization and Binarization \n",
      "\n",
      "    21.0  41.0  42.0  50.0  52.0\n",
      "0      0     1     0     0     0\n",
      "1      1     0     0     0     0\n",
      "2      0     0     0     0     1\n",
      "3      0     0     0     0     1\n",
      "4      0     0     0     0     1\n",
      "5      0     0     0     0     1\n",
      "6      0     0     0     0     1\n",
      "7      0     0     0     0     1\n",
      "8      0     0     1     0     0\n",
      "9      0     0     0     0     1\n",
      "10     0     0     0     0     1\n",
      "11     0     0     0     0     1\n",
      "12     0     0     0     0     1\n",
      "13     0     0     0     0     1\n",
      "14     0     0     0     0     1\n",
      "15     0     0     0     1     0\n",
      "16     0     0     0     0     1\n",
      "17     0     0     0     0     1\n",
      "18     0     0     0     1     0\n",
      "19     0     0     0     0     1\n"
     ]
    }
   ],
   "source": [
    "def discretizationandBinarization(d):\n",
    "    binary = d.HouseAge[0:20]\n",
    "    return pd.get_dummies(binary)\n",
    "\n",
    "print('6) Discretization and Binarization ' \"\\n\")\n",
    "print(discretizationandBinarization(dframe))"
   ]
  },
  {
   "cell_type": "code",
   "execution_count": 195,
   "metadata": {},
   "outputs": [
    {
     "name": "stdout",
     "output_type": "stream",
     "text": [
      "7) Attribute Transformation \n",
      "\n",
      "   MedInc  HouseAge  AveRooms  AveBedrms  Population  AveOccup  Latitude  \\\n",
      "0  8.3252      36.0  6.984127   1.023810       322.0  2.555556     37.88   \n",
      "1  8.3014      16.0  6.238137   0.971880      2401.0  2.109842     37.86   \n",
      "2  7.2574      47.0  8.288136   1.073446       496.0  2.802260     37.85   \n",
      "3  5.6431      47.0  5.817352   1.073059       558.0  2.547945     37.85   \n",
      "4  3.8462      47.0  6.281853   1.081081       565.0  2.181467     37.85   \n",
      "\n",
      "   Longitude  Population/MedInc  \n",
      "0    -122.23          38.677749  \n",
      "1    -122.22         289.228323  \n",
      "2    -122.24          68.344035  \n",
      "3    -122.25          98.881820  \n",
      "4    -122.25         146.898237  \n"
     ]
    }
   ],
   "source": [
    "def attributeTransformation(d):\n",
    "    d['HouseAge'] = d['HouseAge'].transform(lambda i: i - 5)\n",
    "    return d.head()\n",
    "\n",
    "print('7) Attribute Transformation ' \"\\n\")\n",
    "print(attributeTransformation(dframe))"
   ]
  }
 ],
 "metadata": {
  "kernelspec": {
   "display_name": "Python 3",
   "language": "python",
   "name": "python3"
  },
  "language_info": {
   "codemirror_mode": {
    "name": "ipython",
    "version": 3
   },
   "file_extension": ".py",
   "mimetype": "text/x-python",
   "name": "python",
   "nbconvert_exporter": "python",
   "pygments_lexer": "ipython3",
   "version": "3.6.1"
  }
 },
 "nbformat": 4,
 "nbformat_minor": 2
}
