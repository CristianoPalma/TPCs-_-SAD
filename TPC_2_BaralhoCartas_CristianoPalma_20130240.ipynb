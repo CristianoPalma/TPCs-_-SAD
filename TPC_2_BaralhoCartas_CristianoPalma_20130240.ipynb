{
 "cells": [
  {
   "cell_type": "markdown",
   "metadata": {},
   "source": [
    "\n",
    "SAD - TPC 2\n",
    "Dominar a linguagem Python 2\n",
    "\n",
    "Uma cada carta é identificada pelo seu numero\n",
    "\n",
    "    1,2,3,4,5,6,7,8,9,10,D,V,R (sendo os ultimos dama, valete e rei)\n",
    "\n",
    "e pelo seu naipe\n",
    "\n",
    "    copas(C); paus (P); Ouros (O); Espadas (E)\n",
    "\n",
    "Um exemplo de uma carta seria E10 ou PR\n",
    "\n",
    "Considere um conjunto de N cartas definido numa lista A.\n",
    "\n",
    "Por exemplo,\n",
    "\n",
    "A = [P10, E9, C1]\n",
    "\n",
    "ou\n",
    "\n",
    "A = [\"1P\", \"1C\", \"1O\", \"2P\", \"2C\", \"2O\", \"2E\", \"3P\", \"3C\", \"3O\", \"3E\", \"4P\", \"4C\", \"4O\", \"4E\", \"5P\", \"5C\", \"5O\", \"5E\", \"6P\", \"6C\", \"6O\", \"6E\", \"7P\", \"7C\", \"7O\", \"7E\", \"8P\", \"8C\", \"8O\", \"8E\", \"9P\", \"9C\", \"9O\", \"9E\", \"DP\", \"DC\", \"DO\", \"DE\", \"JP\", \"JC\", \"JO\", \"JE\", \"VP\", \"VC\", \"VO\", \"VE\", \"RP\", \"RC\", \"RO\", \"RE\", \"1P\", \"1C\", \"1O\", \"1E\", \"2P\", \"2C\", \"2O\", \"2E\", \"3P\", \"3C\", \"3O\", \"3E\", \"4P\", \"4C\", \"4O\", \"4E\", \"5P\", \"5C\", \"5O\", \"5E\", \"6P\", \"6C\", \"6O\", \"6E\", \"7P\", \"7C\", \"7O\", \"7E\", \"8P\", \"8C\", \"8O\", \"8E\", \"9P\", \"9C\", \"9O\", \"9E\", \"DP\", \"DC\", \"DO\", \"DE\", \"JP\", \"JC\", \"JO\", \"JE\", \"VP\", \"VC\", \"VO\", \"VE\", \"RP\", \"RC\", \"RO\", \"RE\", \"1P\", \"1C\", \"1O\", \"1E\", \"2P\", \"2C\", \"2O\", \"2E\", \"3P\", \"3C\", \"3O\", \"3E\", \"4P\", \"4C\", \"4O\", \"4E\", \"5P\", \"5C\", \"5O\", \"5E\", \"6P\", \"6C\", \"6O\", \"6E\", \"7P\", \"7C\", \"7O\", \"7E\", \"8P\", \"8C\", \"8O\", \"8E\", \"9P\", \"9C\", \"9O\", \"9E\", \"DP\", \"DC\", \"DO\", \"DE\", \"JP\", \"JC\", \"JO\", \"JE\", \"VP\", \"VC\", \"VO\", \"VE\", \"RP\", \"RC\", \"RO\", \"RE\"]\n",
    "\n",
    "ou\n",
    "\n",
    "Crie uma função que retorne o número de baralhos completos (com todas as cartas) existentes nessa lista.\n"
   ]
  },
  {
   "cell_type": "code",
   "execution_count": 13,
   "metadata": {},
   "outputs": [
    {
     "name": "stdout",
     "output_type": "stream",
     "text": [
      "2\n",
      "1\n",
      "0\n"
     ]
    }
   ],
   "source": [
    "#O exemplo A tem 2 baralhos completos:\n",
    "    \n",
    "A = ['1P','2P', '3P', '4P', '5P', '6P', '7P', '8P', '9P', '10P', 'DP', 'VP', 'RP', \n",
    "     '1C', '2C', '3C', '4C', '5C', '6C', '7C', '8C', '9C', '10C', 'DC', 'VC', 'RC', \n",
    "     '1O', '2O', '3O', '4O', '5O', '6O', '7O', '8O', '9O', '10O', 'DO', 'VO', 'RO', \n",
    "     '1E', '2E', '3E', '4E', '5E', '6E', '7E', '8E', '9E', '10E', 'DE', 'VE', 'RE',\n",
    "     '1P', '2P', '3P', '4P', '5P', '6P', '7P', '8P', '9P', '10P', 'DP', 'VP', 'RP', \n",
    "     '1C', '2C', '3C', '4C', '5C', '6C', '7C', '8C', '9C', '10C', 'DC', 'VC', 'RC', \n",
    "     '1O', '2O', '3O', '4O', '5O', '6O', '7O', '8O', '9O', '10O', 'DO', 'VO', 'RO', \n",
    "     '1E', '2E', '3E', '4E', '5E', '6E', '7E', '8E', '9E', '10E', 'DE', 'VE', 'RE']\n",
    "\n",
    "#O exemplo A tem 1 baralho completo:\n",
    "\n",
    "B = ['2P', '3P', '4P', '5P', '6P', '7P', '8P', '9P', '10P', 'DP', 'VP', 'RP', \n",
    "     '1C', '2C', '3C', '4C', '5C', '6C', '7C', '8C', '9C', '10C', 'DC', 'VC', 'RC',\n",
    "     '1P', '2P', '3P', '4P', '5P', '6P', '7P', '8P', '9P', '10P', 'DP', 'VP', 'RP', \n",
    "     '1C', '2C', '3C', '4C', '5C', '6C', '7C', '8C', '9C', '10C', 'DC', 'VC', 'RC', \n",
    "     '1O', '2O', '3O', '4O', '5O', '6O', '7O', '8O', '9O', '10O', 'DO', 'VO', 'RO', \n",
    "     '1E', '2E', '3E', '4E', '5E', '6E', '7E', '8E', '9E', '10E', 'DE', 'VE', 'RE']\n",
    "\n",
    "#O exemplo C tem 0 baralhos completos:\n",
    "C = ['2P', '3P', '4P', '5P', '6P', '7P', '8P', '9P', '10P', 'DP', 'VP', 'RP',\n",
    "     '2P', '3P', '4P', '5P', '6P', '7P', '8P', '9P', '10P', 'DP', 'VP', 'RP', \n",
    "     '2P', '3P', '4P', '5P', '6P', '7P', '8P', '9P', '10P', 'DP', 'VP', 'RP', \n",
    "     '1C', '2C', '3C', '4C', '5C', '6C', '7C', '8C', '9C', '10C', 'DC', 'VC', 'RC',\n",
    "     '1E', '2E', '3E', '4E', '5E', '6E', '7E', '8E', '9E', '10E', 'DE', 'VE', 'RE']\n",
    "\n",
    "def contarBaralhos(cards):\n",
    "    \n",
    "    '''Construção de um baralho completo'''\n",
    "    naipes = ['P', 'C', 'O', 'E']\n",
    "    baralho = []\n",
    "    \n",
    "    for n in naipes:\n",
    "        for i in range(1, 11):\n",
    "            baralho.append(str(i) + n)\n",
    "        \n",
    "        baralho.append('D' + n)\n",
    "        baralho.append('V' + n)\n",
    "        baralho.append('R' + n)\n",
    "    \n",
    "    contador = 0\n",
    "    \n",
    "    lista = cards[:]\n",
    "    \n",
    "    while(len(lista) > 0):\n",
    "        for carta in baralho:\n",
    "            if carta in lista: lista.remove(carta)\n",
    "            else: return contador \n",
    "            \n",
    "        contador += 1\n",
    "    \n",
    "    return contador\n",
    "\n",
    "print(contarBaralhos(A))\n",
    "print(contarBaralhos(B))\n",
    "print(contarBaralhos(C))"
   ]
  },
  {
   "cell_type": "code",
   "execution_count": null,
   "metadata": {
    "collapsed": true
   },
   "outputs": [],
   "source": []
  },
  {
   "cell_type": "code",
   "execution_count": null,
   "metadata": {
    "collapsed": true
   },
   "outputs": [],
   "source": []
  }
 ],
 "metadata": {
  "kernelspec": {
   "display_name": "Python 3",
   "language": "python",
   "name": "python3"
  },
  "language_info": {
   "codemirror_mode": {
    "name": "ipython",
    "version": 3
   },
   "file_extension": ".py",
   "mimetype": "text/x-python",
   "name": "python",
   "nbconvert_exporter": "python",
   "pygments_lexer": "ipython3",
   "version": "3.6.1"
  }
 },
 "nbformat": 4,
 "nbformat_minor": 2
}
